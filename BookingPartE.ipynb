{
 "cells": [
  {
   "cell_type": "code",
   "execution_count": 1,
   "metadata": {},
   "outputs": [],
   "source": [
    "import numpy as np\n",
    "import pandas as pd\n",
    "import matplotlib.pyplot as plt\n",
    "import seaborn as sns\n",
    "from sklearn.model_selection import train_test_split\n",
    "from sklearn.linear_model import LinearRegression\n",
    "import scipy.stats as stats\n",
    "from sklearn.metrics import mean_squared_error,mean_absolute_error, r2_score\n",
    "from sklearn.metrics import roc_auc_score, accuracy_score, confusion_matrix, classification_report, roc_curve\n",
    "from sklearn.tree import DecisionTreeRegressor\n",
    "from sklearn import tree\n",
    "from sklearn.gaussian_process import GaussianProcessRegressor\n",
    "from sklearn.gaussian_process.kernels import RBF, Matern, ExpSineSquared\n",
    "from sklearn.linear_model import LogisticRegression\n",
    "import datetime as dt\n",
    "from sklearn.neural_network import MLPRegressor\n",
    "from sklearn.ensemble import RandomForestRegressor\n",
    "from sklearn.model_selection import cross_val_score\n",
    "from sklearn.svm import SVR\n",
    "import warnings\n",
    "from sklearn.preprocessing import StandardScaler\n",
    "warnings.filterwarnings(\"ignore\")"
   ]
  },
  {
   "cell_type": "code",
   "execution_count": 2,
   "metadata": {},
   "outputs": [],
   "source": [
    "df = pd.read_csv('newYorkBookingPartB.csv')"
   ]
  },
  {
   "cell_type": "code",
   "execution_count": 3,
   "metadata": {},
   "outputs": [],
   "source": [
    " df= df[['Price', 'Reviews', 'Score', 'prepayment', 'typeBed', 'DistanceFromCenter', 'Stars','Index']]\n"
   ]
  },
  {
   "cell_type": "code",
   "execution_count": 4,
   "metadata": {},
   "outputs": [],
   "source": [
    "df['Index'] = df['Index'].astype(int)"
   ]
  },
  {
   "cell_type": "code",
   "execution_count": 5,
   "metadata": {},
   "outputs": [
    {
     "name": "stdout",
     "output_type": "stream",
     "text": [
      "<class 'pandas.core.frame.DataFrame'>\n",
      "RangeIndex: 48978 entries, 0 to 48977\n",
      "Data columns (total 8 columns):\n",
      " #   Column              Non-Null Count  Dtype  \n",
      "---  ------              --------------  -----  \n",
      " 0   Price               48978 non-null  float64\n",
      " 1   Reviews             48978 non-null  int64  \n",
      " 2   Score               48978 non-null  float64\n",
      " 3   prepayment          48978 non-null  int64  \n",
      " 4   typeBed             48978 non-null  int64  \n",
      " 5   DistanceFromCenter  48978 non-null  int64  \n",
      " 6   Stars               48978 non-null  int64  \n",
      " 7   Index               48978 non-null  int32  \n",
      "dtypes: float64(2), int32(1), int64(5)\n",
      "memory usage: 2.8 MB\n"
     ]
    }
   ],
   "source": [
    "df.info()"
   ]
  },
  {
   "cell_type": "code",
   "execution_count": 6,
   "metadata": {},
   "outputs": [],
   "source": [
    "X = df.drop('Price',axis = 1)\n",
    "y = df.Price\n"
   ]
  },
  {
   "cell_type": "code",
   "execution_count": 7,
   "metadata": {},
   "outputs": [],
   "source": [
    "x_train,x_test,y_train,y_test = train_test_split(X,y,test_size=0.3,random_state=10)"
   ]
  },
  {
   "cell_type": "code",
   "execution_count": 8,
   "metadata": {},
   "outputs": [
    {
     "data": {
      "text/plain": [
       "RandomForestRegressor(bootstrap=False, max_features=0.55, min_samples_leaf=10)"
      ]
     },
     "execution_count": 8,
     "metadata": {},
     "output_type": "execute_result"
    }
   ],
   "source": [
    "rf_model = RandomForestRegressor( bootstrap=False, max_features=0.55, min_samples_leaf=10, n_estimators=100)\n",
    "rf_model.fit(x_train,y_train)"
   ]
  },
  {
   "cell_type": "code",
   "execution_count": 9,
   "metadata": {},
   "outputs": [],
   "source": [
    "y_pred_train = rf_model.predict(x_train)\n",
    "y_pred_test = rf_model.predict(x_test)"
   ]
  },
  {
   "cell_type": "code",
   "execution_count": 10,
   "metadata": {},
   "outputs": [
    {
     "data": {
      "image/png": "[encoded data removed]",
      "text/plain": [
       "<Figure size 800x600 with 1 Axes>"
      ]
     },
     "metadata": {},
     "output_type": "display_data"
    }
   ],
   "source": [
    "\n",
    "importances = rf_model.feature_importances_\n",
    "fig, ax = plt.subplots(figsize=(8, 6))\n",
    "indices = np.argsort(importances)\n",
    "bar_width = 0.5\n",
    "rects = ax.barh(range(len(importances)), importances[indices], color='green')\n",
    "ax.set_yticks(range(len(importances)))\n",
    "ax.set_yticklabels(np.array(x_train.columns)[indices], fontsize=10)\n",
    "\n",
    "ax.set_xlabel('Importance', fontsize=5)\n",
    "plt.title(\"Feature Importances\");"
   ]
  },
  {
   "cell_type": "code",
   "execution_count": 11,
   "metadata": {},
   "outputs": [],
   "source": [
    "booking_sort = df.sort_values(['Reviews','DistanceFromCenter','Score','Stars','typeBed','prepayment'],ascending=False)"
   ]
  },
  {
   "cell_type": "code",
   "execution_count": 12,
   "metadata": {},
   "outputs": [
    {
     "data": {
      "text/html": [
       "<div>\n",
       "<style scoped>\n",
       "    .dataframe tbody tr th:only-of-type {\n",
       "        vertical-align: middle;\n",
       "    }\n",
       "\n",
       "    .dataframe tbody tr th {\n",
       "        vertical-align: top;\n",
       "    }\n",
       "\n",
       "    .dataframe thead th {\n",
       "        text-align: right;\n",
       "    }\n",
       "</style>\n",
       "<table border=\"1\" class=\"dataframe\">\n",
       "  <thead>\n",
       "    <tr style=\"text-align: right;\">\n",
       "      <th></th>\n",
       "      <th>Price</th>\n",
       "      <th>Reviews</th>\n",
       "      <th>Score</th>\n",
       "      <th>prepayment</th>\n",
       "      <th>typeBed</th>\n",
       "      <th>DistanceFromCenter</th>\n",
       "      <th>Stars</th>\n",
       "      <th>Index</th>\n",
       "    </tr>\n",
       "  </thead>\n",
       "  <tbody>\n",
       "    <tr>\n",
       "      <th>20986</th>\n",
       "      <td>1123.08</td>\n",
       "      <td>15259</td>\n",
       "      <td>7.6</td>\n",
       "      <td>0</td>\n",
       "      <td>8</td>\n",
       "      <td>1700</td>\n",
       "      <td>4</td>\n",
       "      <td>29</td>\n",
       "    </tr>\n",
       "    <tr>\n",
       "      <th>21084</th>\n",
       "      <td>1403.64</td>\n",
       "      <td>15259</td>\n",
       "      <td>7.6</td>\n",
       "      <td>0</td>\n",
       "      <td>8</td>\n",
       "      <td>1700</td>\n",
       "      <td>4</td>\n",
       "      <td>27</td>\n",
       "    </tr>\n",
       "    <tr>\n",
       "      <th>21190</th>\n",
       "      <td>351.12</td>\n",
       "      <td>15259</td>\n",
       "      <td>7.6</td>\n",
       "      <td>0</td>\n",
       "      <td>8</td>\n",
       "      <td>1700</td>\n",
       "      <td>4</td>\n",
       "      <td>34</td>\n",
       "    </tr>\n",
       "    <tr>\n",
       "      <th>21294</th>\n",
       "      <td>561.40</td>\n",
       "      <td>15259</td>\n",
       "      <td>7.6</td>\n",
       "      <td>0</td>\n",
       "      <td>8</td>\n",
       "      <td>1700</td>\n",
       "      <td>4</td>\n",
       "      <td>38</td>\n",
       "    </tr>\n",
       "    <tr>\n",
       "      <th>21379</th>\n",
       "      <td>812.00</td>\n",
       "      <td>15259</td>\n",
       "      <td>7.6</td>\n",
       "      <td>0</td>\n",
       "      <td>8</td>\n",
       "      <td>1700</td>\n",
       "      <td>4</td>\n",
       "      <td>23</td>\n",
       "    </tr>\n",
       "    <tr>\n",
       "      <th>...</th>\n",
       "      <td>...</td>\n",
       "      <td>...</td>\n",
       "      <td>...</td>\n",
       "      <td>...</td>\n",
       "      <td>...</td>\n",
       "      <td>...</td>\n",
       "      <td>...</td>\n",
       "      <td>...</td>\n",
       "    </tr>\n",
       "    <tr>\n",
       "      <th>16438</th>\n",
       "      <td>138.60</td>\n",
       "      <td>5</td>\n",
       "      <td>8.6</td>\n",
       "      <td>1</td>\n",
       "      <td>0</td>\n",
       "      <td>3600</td>\n",
       "      <td>0</td>\n",
       "      <td>95</td>\n",
       "    </tr>\n",
       "    <tr>\n",
       "      <th>16512</th>\n",
       "      <td>277.20</td>\n",
       "      <td>5</td>\n",
       "      <td>8.6</td>\n",
       "      <td>1</td>\n",
       "      <td>0</td>\n",
       "      <td>3600</td>\n",
       "      <td>0</td>\n",
       "      <td>69</td>\n",
       "    </tr>\n",
       "    <tr>\n",
       "      <th>33989</th>\n",
       "      <td>646.80</td>\n",
       "      <td>2</td>\n",
       "      <td>9.5</td>\n",
       "      <td>1</td>\n",
       "      <td>0</td>\n",
       "      <td>2700</td>\n",
       "      <td>0</td>\n",
       "      <td>127</td>\n",
       "    </tr>\n",
       "    <tr>\n",
       "      <th>15344</th>\n",
       "      <td>150.92</td>\n",
       "      <td>1</td>\n",
       "      <td>10.0</td>\n",
       "      <td>1</td>\n",
       "      <td>0</td>\n",
       "      <td>2900</td>\n",
       "      <td>2</td>\n",
       "      <td>1</td>\n",
       "    </tr>\n",
       "    <tr>\n",
       "      <th>18346</th>\n",
       "      <td>357.28</td>\n",
       "      <td>1</td>\n",
       "      <td>10.0</td>\n",
       "      <td>1</td>\n",
       "      <td>0</td>\n",
       "      <td>2900</td>\n",
       "      <td>2</td>\n",
       "      <td>2</td>\n",
       "    </tr>\n",
       "  </tbody>\n",
       "</table>\n",
       "<p>48978 rows × 8 columns</p>\n",
       "</div>"
      ],
      "text/plain": [
       "         Price  Reviews  Score  prepayment  typeBed  DistanceFromCenter  \\\n",
       "20986  1123.08    15259    7.6           0        8                1700   \n",
       "21084  1403.64    15259    7.6           0        8                1700   \n",
       "21190   351.12    15259    7.6           0        8                1700   \n",
       "21294   561.40    15259    7.6           0        8                1700   \n",
       "21379   812.00    15259    7.6           0        8                1700   \n",
       "...        ...      ...    ...         ...      ...                 ...   \n",
       "16438   138.60        5    8.6           1        0                3600   \n",
       "16512   277.20        5    8.6           1        0                3600   \n",
       "33989   646.80        2    9.5           1        0                2700   \n",
       "15344   150.92        1   10.0           1        0                2900   \n",
       "18346   357.28        1   10.0           1        0                2900   \n",
       "\n",
       "       Stars  Index  \n",
       "20986      4     29  \n",
       "21084      4     27  \n",
       "21190      4     34  \n",
       "21294      4     38  \n",
       "21379      4     23  \n",
       "...      ...    ...  \n",
       "16438      0     95  \n",
       "16512      0     69  \n",
       "33989      0    127  \n",
       "15344      2      1  \n",
       "18346      2      2  \n",
       "\n",
       "[48978 rows x 8 columns]"
      ]
     },
     "execution_count": 12,
     "metadata": {},
     "output_type": "execute_result"
    }
   ],
   "source": [
    "booking_sort"
   ]
  },
  {
   "cell_type": "code",
   "execution_count": 21,
   "metadata": {},
   "outputs": [
    {
     "data": {
      "text/plain": [
       "4      928\n",
       "3      874\n",
       "1      872\n",
       "2      855\n",
       "6      849\n",
       "      ... \n",
       "138      8\n",
       "136      6\n",
       "137      4\n",
       "140      4\n",
       "139      2\n",
       "Name: Distance, Length: 141, dtype: int64"
      ]
     },
     "execution_count": 21,
     "metadata": {},
     "output_type": "execute_result"
    }
   ],
   "source": [
    "booking_sort['Newindex'] = (df.index % 100)\n",
    "booking_sort['Distance'] = (booking_sort['Index'] - booking_sort['Newindex']).abs()\n",
    "booking_sort['Distance'].value_counts()"
   ]
  },
  {
   "cell_type": "code",
   "execution_count": 22,
   "metadata": {},
   "outputs": [
    {
     "data": {
      "text/html": [
       "<div>\n",
       "<style scoped>\n",
       "    .dataframe tbody tr th:only-of-type {\n",
       "        vertical-align: middle;\n",
       "    }\n",
       "\n",
       "    .dataframe tbody tr th {\n",
       "        vertical-align: top;\n",
       "    }\n",
       "\n",
       "    .dataframe thead th {\n",
       "        text-align: right;\n",
       "    }\n",
       "</style>\n",
       "<table border=\"1\" class=\"dataframe\">\n",
       "  <thead>\n",
       "    <tr style=\"text-align: right;\">\n",
       "      <th></th>\n",
       "      <th>Price</th>\n",
       "      <th>Reviews</th>\n",
       "      <th>Score</th>\n",
       "      <th>prepayment</th>\n",
       "      <th>typeBed</th>\n",
       "      <th>DistanceFromCenter</th>\n",
       "      <th>Stars</th>\n",
       "      <th>Index</th>\n",
       "      <th>Newindex</th>\n",
       "      <th>Distance</th>\n",
       "    </tr>\n",
       "  </thead>\n",
       "  <tbody>\n",
       "    <tr>\n",
       "      <th>20986</th>\n",
       "      <td>1123.08</td>\n",
       "      <td>15259</td>\n",
       "      <td>7.6</td>\n",
       "      <td>0</td>\n",
       "      <td>8</td>\n",
       "      <td>1700</td>\n",
       "      <td>4</td>\n",
       "      <td>29</td>\n",
       "      <td>0</td>\n",
       "      <td>29</td>\n",
       "    </tr>\n",
       "    <tr>\n",
       "      <th>21084</th>\n",
       "      <td>1403.64</td>\n",
       "      <td>15259</td>\n",
       "      <td>7.6</td>\n",
       "      <td>0</td>\n",
       "      <td>8</td>\n",
       "      <td>1700</td>\n",
       "      <td>4</td>\n",
       "      <td>27</td>\n",
       "      <td>1</td>\n",
       "      <td>26</td>\n",
       "    </tr>\n",
       "    <tr>\n",
       "      <th>21190</th>\n",
       "      <td>351.12</td>\n",
       "      <td>15259</td>\n",
       "      <td>7.6</td>\n",
       "      <td>0</td>\n",
       "      <td>8</td>\n",
       "      <td>1700</td>\n",
       "      <td>4</td>\n",
       "      <td>34</td>\n",
       "      <td>2</td>\n",
       "      <td>32</td>\n",
       "    </tr>\n",
       "    <tr>\n",
       "      <th>21294</th>\n",
       "      <td>561.40</td>\n",
       "      <td>15259</td>\n",
       "      <td>7.6</td>\n",
       "      <td>0</td>\n",
       "      <td>8</td>\n",
       "      <td>1700</td>\n",
       "      <td>4</td>\n",
       "      <td>38</td>\n",
       "      <td>3</td>\n",
       "      <td>35</td>\n",
       "    </tr>\n",
       "    <tr>\n",
       "      <th>21379</th>\n",
       "      <td>812.00</td>\n",
       "      <td>15259</td>\n",
       "      <td>7.6</td>\n",
       "      <td>0</td>\n",
       "      <td>8</td>\n",
       "      <td>1700</td>\n",
       "      <td>4</td>\n",
       "      <td>23</td>\n",
       "      <td>4</td>\n",
       "      <td>19</td>\n",
       "    </tr>\n",
       "    <tr>\n",
       "      <th>...</th>\n",
       "      <td>...</td>\n",
       "      <td>...</td>\n",
       "      <td>...</td>\n",
       "      <td>...</td>\n",
       "      <td>...</td>\n",
       "      <td>...</td>\n",
       "      <td>...</td>\n",
       "      <td>...</td>\n",
       "      <td>...</td>\n",
       "      <td>...</td>\n",
       "    </tr>\n",
       "    <tr>\n",
       "      <th>16438</th>\n",
       "      <td>138.60</td>\n",
       "      <td>5</td>\n",
       "      <td>8.6</td>\n",
       "      <td>1</td>\n",
       "      <td>0</td>\n",
       "      <td>3600</td>\n",
       "      <td>0</td>\n",
       "      <td>95</td>\n",
       "      <td>73</td>\n",
       "      <td>22</td>\n",
       "    </tr>\n",
       "    <tr>\n",
       "      <th>16512</th>\n",
       "      <td>277.20</td>\n",
       "      <td>5</td>\n",
       "      <td>8.6</td>\n",
       "      <td>1</td>\n",
       "      <td>0</td>\n",
       "      <td>3600</td>\n",
       "      <td>0</td>\n",
       "      <td>69</td>\n",
       "      <td>74</td>\n",
       "      <td>5</td>\n",
       "    </tr>\n",
       "    <tr>\n",
       "      <th>33989</th>\n",
       "      <td>646.80</td>\n",
       "      <td>2</td>\n",
       "      <td>9.5</td>\n",
       "      <td>1</td>\n",
       "      <td>0</td>\n",
       "      <td>2700</td>\n",
       "      <td>0</td>\n",
       "      <td>127</td>\n",
       "      <td>75</td>\n",
       "      <td>52</td>\n",
       "    </tr>\n",
       "    <tr>\n",
       "      <th>15344</th>\n",
       "      <td>150.92</td>\n",
       "      <td>1</td>\n",
       "      <td>10.0</td>\n",
       "      <td>1</td>\n",
       "      <td>0</td>\n",
       "      <td>2900</td>\n",
       "      <td>2</td>\n",
       "      <td>1</td>\n",
       "      <td>76</td>\n",
       "      <td>75</td>\n",
       "    </tr>\n",
       "    <tr>\n",
       "      <th>18346</th>\n",
       "      <td>357.28</td>\n",
       "      <td>1</td>\n",
       "      <td>10.0</td>\n",
       "      <td>1</td>\n",
       "      <td>0</td>\n",
       "      <td>2900</td>\n",
       "      <td>2</td>\n",
       "      <td>2</td>\n",
       "      <td>77</td>\n",
       "      <td>75</td>\n",
       "    </tr>\n",
       "  </tbody>\n",
       "</table>\n",
       "<p>48978 rows × 10 columns</p>\n",
       "</div>"
      ],
      "text/plain": [
       "         Price  Reviews  Score  prepayment  typeBed  DistanceFromCenter  \\\n",
       "20986  1123.08    15259    7.6           0        8                1700   \n",
       "21084  1403.64    15259    7.6           0        8                1700   \n",
       "21190   351.12    15259    7.6           0        8                1700   \n",
       "21294   561.40    15259    7.6           0        8                1700   \n",
       "21379   812.00    15259    7.6           0        8                1700   \n",
       "...        ...      ...    ...         ...      ...                 ...   \n",
       "16438   138.60        5    8.6           1        0                3600   \n",
       "16512   277.20        5    8.6           1        0                3600   \n",
       "33989   646.80        2    9.5           1        0                2700   \n",
       "15344   150.92        1   10.0           1        0                2900   \n",
       "18346   357.28        1   10.0           1        0                2900   \n",
       "\n",
       "       Stars  Index  Newindex  Distance  \n",
       "20986      4     29         0        29  \n",
       "21084      4     27         1        26  \n",
       "21190      4     34         2        32  \n",
       "21294      4     38         3        35  \n",
       "21379      4     23         4        19  \n",
       "...      ...    ...       ...       ...  \n",
       "16438      0     95        73        22  \n",
       "16512      0     69        74         5  \n",
       "33989      0    127        75        52  \n",
       "15344      2      1        76        75  \n",
       "18346      2      2        77        75  \n",
       "\n",
       "[48978 rows x 10 columns]"
      ]
     },
     "execution_count": 22,
     "metadata": {},
     "output_type": "execute_result"
    }
   ],
   "source": [
    "booking_sort"
   ]
  },
  {
   "cell_type": "code",
   "execution_count": 23,
   "metadata": {},
   "outputs": [],
   "source": [
    "X = booking_sort.drop('Newindex',axis = 1)\n",
    "y = booking_sort.Newindex"
   ]
  },
  {
   "cell_type": "code",
   "execution_count": 24,
   "metadata": {},
   "outputs": [],
   "source": [
    "x_train,x_test,y_train,y_test = train_test_split(X,y,test_size=0.3,random_state=10)"
   ]
  },
  {
   "cell_type": "code",
   "execution_count": 25,
   "metadata": {},
   "outputs": [
    {
     "data": {
      "text/plain": [
       "RandomForestRegressor(bootstrap=False, max_features=0.55, min_samples_leaf=10)"
      ]
     },
     "execution_count": 25,
     "metadata": {},
     "output_type": "execute_result"
    }
   ],
   "source": [
    "rf_model = RandomForestRegressor(bootstrap=False, max_features=0.55, min_samples_leaf=10, n_estimators=100)\n",
    "rf_model.fit(x_train,y_train)"
   ]
  },
  {
   "cell_type": "code",
   "execution_count": 26,
   "metadata": {},
   "outputs": [],
   "source": [
    "y_pred_test = rf_model.predict(x_test)\n",
    "y_pred_train = rf_model.predict(x_train)"
   ]
  },
  {
   "cell_type": "code",
   "execution_count": 27,
   "metadata": {},
   "outputs": [
    {
     "name": "stdout",
     "output_type": "stream",
     "text": [
      "R2 0.7897840128215243\n",
      "RMSE 13.269929949421925\n",
      "MSE 176.09104086256497\n",
      "MAE 8.25064159255629\n"
     ]
    }
   ],
   "source": [
    "RMSE = np.sqrt(mean_squared_error(y_test,y_pred_test))\n",
    "MSE = mean_squared_error(y_test,y_pred_test)\n",
    "MAE = mean_absolute_error(y_test,y_pred_test)\n",
    "R2 = r2_score(y_test,y_pred_test)\n",
    "\n",
    "print('R2', R2)\n",
    "print('RMSE',RMSE)\n",
    "print('MSE',MSE)\n",
    "print('MAE',MAE)\n"
   ]
  },
  {
   "cell_type": "code",
   "execution_count": null,
   "metadata": {},
   "outputs": [],
   "source": []
  }
 ],
 "metadata": {
  "kernelspec": {
   "display_name": "Python 3 (ipykernel)",
   "language": "python",
   "name": "python3"
  },
  "language_info": {
   "codemirror_mode": {
    "name": "ipython",
    "version": 3
   },
   "file_extension": ".py",
   "mimetype": "text/x-python",
   "name": "python",
   "nbconvert_exporter": "python",
   "pygments_lexer": "ipython3",
   "version": "3.9.13"
  }
 },
 "nbformat": 4,
 "nbformat_minor": 1
}
